{
 "cells": [
  {
   "attachments": {},
   "cell_type": "markdown",
   "metadata": {},
   "source": [
    "## 3. Longest Substring Without Repeating Characters\n",
    "\n",
    "Given a string s, find the length of the longest substring without repeating characters.\n",
    "\n",
    "### Example 1:\n",
    "\n",
    "_Input_* s = \"abcabcbb\"\n",
    "\n",
    "_Output_ 3\n",
    "\n",
    "_Explanation_ The answer is \"abc\", with the length of 3.\n",
    "\n",
    "### Example 2:\n",
    "\n",
    "_Input_ s = \"bbbbb\"\n",
    "\n",
    "_Output_ 1\n",
    "\n",
    "_Explanation_ The answer is \"b\", with the length of 1.\n",
    "\n",
    "### Example 3:\n",
    "\n",
    "_Input_ s = \"pwwkew\"\n",
    "\n",
    "_Output_ 3\n",
    "\n",
    "_Explanation_ The answer is \"wke\", with the length of 3.\n",
    "Notice that the answer must be a substring, \"pwke\" is a subsequence and not a substring.\n",
    " \n",
    "\n",
    "Constraints:\n",
    "\n",
    "0 <= s.length <= 5 * 104\n",
    "s consists of English letters, digits, symbols and spaces."
   ]
  },
  {
   "attachments": {},
   "cell_type": "markdown",
   "metadata": {},
   "source": [
    "### Approach\n",
    "- Grow window until a duplicate is detected\n",
    "- if a duplicate is detected: shift window to start at the latest element of max size\n",
    "- keep track of max"
   ]
  },
  {
   "cell_type": "code",
   "execution_count": 10,
   "metadata": {},
   "outputs": [
    {
     "name": "stdout",
     "output_type": "stream",
     "text": [
      "3\n",
      "1\n",
      "3\n",
      "3\n"
     ]
    }
   ],
   "source": [
    "def f(xs):\n",
    "    l, maxWindow, charsInWindow = 0, 0, set()\n",
    "    for (r, x) in enumerate(xs):\n",
    "        if x in charsInWindow:\n",
    "            # start window after the first occurance of x\n",
    "            while l <= r:\n",
    "                charsInWindow.remove(xs[l])\n",
    "                l += 1\n",
    "                if xs[l - 1] == x: break\n",
    "        charsInWindow.add(x)\n",
    "        windowSize = r - l + 1\n",
    "        maxWindow = max(windowSize, maxWindow)\n",
    "    return maxWindow\n",
    "\n",
    "print(f(\"abcabcbb\"))\n",
    "print(f(\"bbbb\"))\n",
    "print(f(\"pwwkew\"))\n",
    "print(f(\"dvdf\"))\n"
   ]
  },
  {
   "cell_type": "code",
   "execution_count": null,
   "metadata": {},
   "outputs": [],
   "source": []
  },
  {
   "attachments": {},
   "cell_type": "markdown",
   "metadata": {},
   "source": [
    "## 76. Minimum Window Substring\n",
    "\n",
    "Given two strings s and t of lengths m and n respectively, return the minimum window \n",
    "substring\n",
    " of s such that every character in t (including duplicates) is included in the window. If there is no such substring, return the empty string \"\".\n",
    "\n",
    "The testcases will be generated such that the answer is unique.\n",
    "\n",
    "Example 1:\n",
    "```\n",
    "Input: s = \"ADOBECODEBANC\", t = \"ABC\"\n",
    "Output: \"BANC\"\n",
    "Explanation: The minimum window substring \"BANC\" includes 'A', 'B', and 'C' from string t.\n",
    "```\n",
    "\n",
    "Example 2:\n",
    "\n",
    "```\n",
    "Input: s = \"a\", t = \"a\"\n",
    "Output: \"a\"\n",
    "Explanation: The entire string s is the minimum window.\n",
    "```\n",
    "\n",
    "Example 3:\n",
    "\n",
    "```\n",
    "Input: s = \"a\", t = \"aa\"\n",
    "Output: \"\"\n",
    "Explanation: Both 'a's from t must be included in the window.\n",
    "Since the largest window of s only has one 'a', return empty string.\n",
    "```"
   ]
  },
  {
   "cell_type": "markdown",
   "metadata": {},
   "source": []
  }
 ],
 "metadata": {
  "kernelspec": {
   "display_name": "Python 3",
   "language": "python",
   "name": "python3"
  },
  "language_info": {
   "codemirror_mode": {
    "name": "ipython",
    "version": 3
   },
   "file_extension": ".py",
   "mimetype": "text/x-python",
   "name": "python",
   "nbconvert_exporter": "python",
   "pygments_lexer": "ipython3",
   "version": "3.9.6"
  },
  "orig_nbformat": 4,
  "vscode": {
   "interpreter": {
    "hash": "31f2aee4e71d21fbe5cf8b01ff0e069b9275f58929596ceb00d14d90e3e16cd6"
   }
  }
 },
 "nbformat": 4,
 "nbformat_minor": 2
}
