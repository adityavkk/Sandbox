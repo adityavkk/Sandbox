{
 "cells": [
  {
   "attachments": {},
   "cell_type": "markdown",
   "metadata": {},
   "source": [
    "## TOC:\n",
    "* [Longest Substring Without Repeating Characters](#1)\n",
    "* [Minimum Window Substring](#second-bullet)"
   ]
  },
  {
   "attachments": {},
   "cell_type": "markdown",
   "metadata": {},
   "source": [
    "## 3. Longest Substring Without Repeating Characters [MEDIUM] <a class=\"anchor\" id=\"1\"></a>\n",
    "\n",
    "Given a string s, find the length of the longest substring without repeating characters.\n",
    "\n",
    "Example 1:\n",
    "\n",
    "```\n",
    "_Input_* s = \"abcabcbb\"\n",
    "\n",
    "_Output_ 3\n",
    "\n",
    "_Explanation_ The answer is \"abc\", with the length of 3.\n",
    "```\n",
    "\n",
    "Example 2:\n",
    "```\n",
    "_Input_ s = \"bbbbb\"\n",
    "\n",
    "_Output_ 1\n",
    "\n",
    "_Explanation_ The answer is \"b\", with the length of 1.\n",
    "```\n",
    "Example 3:\n",
    "```\n",
    "_Input_ s = \"pwwkew\"\n",
    "\n",
    "_Output_ 3\n",
    "\n",
    "_Explanation_ The answer is \"wke\", with the length of 3.\n",
    "Notice that the answer must be a substring, \"pwke\" is a subsequence and not a substring.\n",
    "``` \n",
    "\n",
    "Constraints:\n",
    "\n",
    "0 <= s.length <= 5 * 104\n",
    "s consists of English letters, digits, symbols and spaces."
   ]
  },
  {
   "attachments": {},
   "cell_type": "markdown",
   "metadata": {},
   "source": [
    "### Approach\n",
    "- Grow window until a duplicate is detected\n",
    "- if a duplicate is detected: shift window to start at the latest element of max size\n",
    "- keep track of max"
   ]
  },
  {
   "cell_type": "code",
   "execution_count": 10,
   "metadata": {},
   "outputs": [
    {
     "name": "stdout",
     "output_type": "stream",
     "text": [
      "3\n",
      "1\n",
      "3\n",
      "3\n"
     ]
    }
   ],
   "source": [
    "def f(xs):\n",
    "    l, maxWindow, charsInWindow = 0, 0, set()\n",
    "    for (r, x) in enumerate(xs):\n",
    "        if x in charsInWindow:\n",
    "            # start window after the first occurance of x\n",
    "            while l <= r:\n",
    "                charsInWindow.remove(xs[l])\n",
    "                l += 1\n",
    "                if xs[l - 1] == x: break\n",
    "        charsInWindow.add(x)\n",
    "        windowSize = r - l + 1\n",
    "        maxWindow = max(windowSize, maxWindow)\n",
    "    return maxWindow\n",
    "\n",
    "print(f(\"abcabcbb\"))\n",
    "print(f(\"bbbb\"))\n",
    "print(f(\"pwwkew\"))\n",
    "print(f(\"dvdf\"))\n"
   ]
  },
  {
   "cell_type": "code",
   "execution_count": null,
   "metadata": {},
   "outputs": [],
   "source": []
  },
  {
   "attachments": {},
   "cell_type": "markdown",
   "metadata": {},
   "source": [
    "## 76. Minimum Window Substring [HARD] <a class=\"anchor\" id=\"2\"></a>\n",
    "\n",
    "Given two strings `s` and `t` of lengths `m` and `n` respectively, return the minimum window \n",
    "substring of `s` such that every character in `t` (including duplicates) is included in the window. If there is no such substring, return the empty string \"\".\n",
    "\n",
    "The testcases will be generated such that the answer is unique.\n",
    "\n",
    "Example 1:\n",
    "```\n",
    "Input: s = \"ADOBECODEBANCZ\", t = \"ABC\"\n",
    "Output: \"BANC\"\n",
    "Explanation: The minimum window substring \"BANC\" includes 'A', 'B', and 'C' from string t.\n",
    "```\n",
    "\n",
    "Example 2:\n",
    "\n",
    "```\n",
    "Input: s = \"a\", t = \"a\"\n",
    "Output: \"a\"\n",
    "Explanation: The entire string s is the minimum window.\n",
    "```\n",
    "\n",
    "Example 3:\n",
    "\n",
    "```\n",
    "Input: s = \"a\", t = \"aa\"\n",
    "Output: \"\"\n",
    "Explanation: Both 'a's from t must be included in the window.\n",
    "Since the largest window of s only has one 'a', return empty string.\n",
    "```"
   ]
  },
  {
   "attachments": {},
   "cell_type": "markdown",
   "metadata": {},
   "source": [
    "### Approach\n"
   ]
  },
  {
   "cell_type": "code",
   "execution_count": 36,
   "metadata": {},
   "outputs": [
    {
     "name": "stdout",
     "output_type": "stream",
     "text": [
      "aefgc\n"
     ]
    }
   ],
   "source": [
    "from collections import Counter\n",
    "\n",
    "def isIn(xs, ys):\n",
    "    for x in xs:\n",
    "        if ys[x] < xs[x]: return False\n",
    "    return True\n",
    "\n",
    "def f(s, t):\n",
    "    l, r = 0, len(s) - 1\n",
    "    freqWindow = Counter(s)\n",
    "    freqT = Counter(t)\n",
    "    if not isIn(freqT, freqWindow): return \"\"\n",
    "    while isIn(freqT, freqWindow): # shrink window from left\n",
    "        freqWindow.subtract(s[l])\n",
    "        l += 1\n",
    "    l -= 1\n",
    "    freqWindow[ s[l] ] += 1\n",
    "    while isIn(freqT, freqWindow): # shrink window from right\n",
    "        freqWindow.subtract(s[r])\n",
    "        r -= 1\n",
    "    r += 2\n",
    "    return s[l:r]\n",
    "\n",
    "s = \"ADOBECODEBANCZMICBABCD\"\n",
    "t = \"ABC\"\n",
    "\n",
    "s = \"cabwefgewcwaefgcf\"\n",
    "t = \"cae\"\n",
    "\n",
    "s1 = \"a\"\n",
    "t1 = \"aa\"\n",
    "print(f(s, t))\n"
   ]
  },
  {
   "cell_type": "code",
   "execution_count": 20,
   "metadata": {},
   "outputs": [
    {
     "data": {
      "text/plain": [
       "True"
      ]
     },
     "execution_count": 20,
     "metadata": {},
     "output_type": "execute_result"
    }
   ],
   "source": [
    "from collections import Counter\n",
    "xs = Counter(\"1E\")\n",
    "ys = Counter(\"ABC1DFH2GIE\")\n",
    "\n",
    "isIn (xs, ys)\n",
    "\n"
   ]
  },
  {
   "cell_type": "code",
   "execution_count": null,
   "metadata": {},
   "outputs": [],
   "source": []
  },
  {
   "attachments": {},
   "cell_type": "markdown",
   "metadata": {},
   "source": [
    "## 239. Sliding Window Maximum [HARD] <a class=\"anchor\" id=\"3\"></a>\n",
    "\n",
    "You are given an array of integers nums, there is a sliding window of size k which is moving from the very left of the array to the very right. You can only see the k numbers in the window. Each time the sliding window moves right by one position.\n",
    "\n",
    "Return the max sliding window.\n",
    "\n",
    "Example 1:\n",
    "```\n",
    "Input: nums = [1,3,-1,-3,5,3,6,7], k = 3\n",
    "Output: [3,3,5,5,6,7]\n",
    "Explanation: \n",
    "Window position                Max\n",
    "---------------               -----\n",
    "[1  3  -1] -3  5  3  6  7       3\n",
    " 1 [3  -1  -3] 5  3  6  7       3\n",
    " 1  3 [-1  -3  5] 3  6  7       5\n",
    " 1  3  -1 [-3  5  3] 6  7       5\n",
    " 1  3  -1  -3 [5  3  6] 7       6\n",
    " 1  3  -1  -3  5 [3  6  7]      7\n",
    "\n",
    "```\n",
    "Example 2:\n",
    "```\n",
    "Input: nums = [1], k = 1\n",
    "Output: [1]\n",
    "```"
   ]
  },
  {
   "cell_type": "markdown",
   "metadata": {},
   "source": []
  },
  {
   "attachments": {},
   "cell_type": "markdown",
   "metadata": {},
   "source": [
    "## Permutation in String [MEDIUM]\n",
    "[LeetCode](https://leetcode.com/problems/permutation-in-string/description/)\n",
    "\n",
    "Given two strings s1 and s2, return true if s2 contains a permutation of s1, or false otherwise.\n",
    "\n",
    "In other words, return true if one of s1's permutations is the substring of s2.\n",
    "\n",
    "```\n",
    "Example 1:\n",
    "Input: s1 = \"ab\", s2 = \"eidbaooo\"\n",
    "Output: true\n",
    "Explanation: s2 contains one permutation of s1 (\"ba\").\n",
    "```\n",
    "```\n",
    "Example 2:\n",
    "Input: s1 = \"ab\", s2 = \"eidboaoo\"\n",
    "Output: false\n",
    "```"
   ]
  },
  {
   "attachments": {},
   "cell_type": "markdown",
   "metadata": {},
   "source": [
    "## Approach\n",
    "shift window of size len(s1) through s2 one char at a time \n",
    "    keep char count of chars in the window\n",
    "    upon shift, remove left most char from char count and add the next char to the char count\n",
    "    if after shift, the window char count is the same as s1 char count, then true\n",
    "\n",
    "Runtime: O(s1 * s2)"
   ]
  },
  {
   "cell_type": "code",
   "execution_count": 22,
   "metadata": {},
   "outputs": [
    {
     "data": {
      "text/plain": [
       "True"
      ]
     },
     "execution_count": 22,
     "metadata": {},
     "output_type": "execute_result"
    }
   ],
   "source": [
    "from collections import Counter\n",
    "class Solution:\n",
    "    def shift(window, windowLen, start, string):\n",
    "        if windowLen + start >= len(string): return window\n",
    "        else:\n",
    "            old = Counter(string[start])\n",
    "            new = Counter(string[start + windowLen])\n",
    "            newWindow = window - old + new\n",
    "            return newWindow\n",
    "            \n",
    "    def checkInclusion(s1: str, s2: str) -> bool:\n",
    "        S1 = Counter(s1)        \n",
    "        windowLen = len(s1)\n",
    "        window = Counter(s2[:windowLen])\n",
    "        for i in range(len(s2) - len(s1) + 1):\n",
    "            window = Solution.shift(window, windowLen, i, s2)\n",
    "            if window == S1: return True\n",
    "        return False\n",
    "\n",
    "Solution.checkInclusion(\"ab\", \"eidbaooo\")"
   ]
  },
  {
   "cell_type": "code",
   "execution_count": null,
   "metadata": {},
   "outputs": [],
   "source": []
  }
 ],
 "metadata": {
  "kernelspec": {
   "display_name": "Python 3",
   "language": "python",
   "name": "python3"
  },
  "language_info": {
   "codemirror_mode": {
    "name": "ipython",
    "version": 3
   },
   "file_extension": ".py",
   "mimetype": "text/x-python",
   "name": "python",
   "nbconvert_exporter": "python",
   "pygments_lexer": "ipython3",
   "version": "3.9.6"
  },
  "orig_nbformat": 4,
  "vscode": {
   "interpreter": {
    "hash": "31f2aee4e71d21fbe5cf8b01ff0e069b9275f58929596ceb00d14d90e3e16cd6"
   }
  }
 },
 "nbformat": 4,
 "nbformat_minor": 2
}
