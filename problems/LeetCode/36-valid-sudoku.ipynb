{
 "cells": [
  {
   "attachments": {},
   "cell_type": "markdown",
   "metadata": {},
   "source": [
    "# Valid Sudoku\n",
    "\n",
    "Determine if a 9 x 9 Sudoku board is valid. Only the filled cells need to be validated according to the following rules:\n",
    "\n",
    "Each row must contain the digits 1-9 without repetition.\n",
    "Each column must contain the digits 1-9 without repetition.\n",
    "Each of the nine 3 x 3 sub-boxes of the grid must contain the digits 1-9 without repetition.\n",
    "Note:\n",
    "\n",
    "A Sudoku board (partially filled) could be valid but is not necessarily solvable.\n",
    "Only the filled cells need to be validated according to the mentioned rules.\n",
    "\n",
    "![](https://upload.wikimedia.org/wikipedia/commons/thumb/f/ff/Sudoku-by-L2G-20050714.svg/250px-Sudoku-by-L2G-20050714.svg.png)\n",
    "\n",
    "```\n",
    "Input: board = \n",
    "[[\"5\",\"3\",\".\",\".\",\"7\",\".\",\".\",\".\",\".\"]\n",
    ",[\"6\",\".\",\".\",\"1\",\"9\",\"5\",\".\",\".\",\".\"]\n",
    ",[\".\",\"9\",\"8\",\".\",\".\",\".\",\".\",\"6\",\".\"]\n",
    ",[\"8\",\".\",\".\",\".\",\"6\",\".\",\".\",\".\",\"3\"]\n",
    ",[\"4\",\".\",\".\",\"8\",\".\",\"3\",\".\",\".\",\"1\"]\n",
    ",[\"7\",\".\",\".\",\".\",\"2\",\".\",\".\",\".\",\"6\"]\n",
    ",[\".\",\"6\",\".\",\".\",\".\",\".\",\"2\",\"8\",\".\"]\n",
    ",[\".\",\".\",\".\",\"4\",\"1\",\"9\",\".\",\".\",\"5\"]\n",
    ",[\".\",\".\",\".\",\".\",\"8\",\".\",\".\",\"7\",\"9\"]]\n",
    "Output: true\n",
    "```\n",
    "\n",
    "```\n",
    "Input: board = \n",
    "[[\"8\",\"3\",\".\",\".\",\"7\",\".\",\".\",\".\",\".\"]\n",
    ",[\"6\",\".\",\".\",\"1\",\"9\",\"5\",\".\",\".\",\".\"]\n",
    ",[\".\",\"9\",\"8\",\".\",\".\",\".\",\".\",\"6\",\".\"]\n",
    ",[\"8\",\".\",\".\",\".\",\"6\",\".\",\".\",\".\",\"3\"]\n",
    ",[\"4\",\".\",\".\",\"8\",\".\",\"3\",\".\",\".\",\"1\"]\n",
    ",[\"7\",\".\",\".\",\".\",\"2\",\".\",\".\",\".\",\"6\"]\n",
    ",[\".\",\"6\",\".\",\".\",\".\",\".\",\"2\",\"8\",\".\"]\n",
    ",[\".\",\".\",\".\",\"4\",\"1\",\"9\",\".\",\".\",\"5\"]\n",
    ",[\".\",\".\",\".\",\".\",\"8\",\".\",\".\",\"7\",\"9\"]]\n",
    "Output: false\n",
    "Explanation: Same as Example 1, except with the 5 in the top left corner being modified to 8. Since there are two 8's in the top left 3x3 sub-box, it is invalid.\n",
    "```"
   ]
  },
  {
   "attachments": {},
   "cell_type": "markdown",
   "metadata": {},
   "source": [
    "## Approaches\n",
    "row check and column check and sub-grid check\n",
    "\n",
    "row check: \n",
    "    each and every row only has numbers between 1-9 & no repeats\n",
    "\n",
    "column check: \n",
    "    convert columns to rows\n",
    "        column i = ith element of every row\n",
    "    run row check\n",
    "\n",
    "sub-grid check:\n",
    "    convert sub-grid to rows \n",
    "        0 = (0, 0) (0, 1) (0, 2) (1, 0) (1, 1) (1, 2) (2, 0) (2, 1) (2, 2)\n",
    "        1 = (0, 3) (0, 4) (0, 5) (1, 3) (1, 4) (1, 5) (2, 3) (2, 4) (2, 4)\n",
    "        2 = (0, 6) (0, 7) (0, 8) (1, 6) (1, 7) (1, 8) (2, 6) (2, 7) (2, 8)\n",
    "\n",
    "        3 = (3, 0) (3, 1) (3, 2) (4, 0) (4, 1) (4, 2) (5, 0) (5, 1) (5, 2)\n",
    "\n",
    "        rows for i = floor (i / 3) * 3 ... ceil (i / 3) * 3\n",
    "        cols for i = i % 3 * 3 ... (i % 3) + 1 * 3\n",
    "\n",
    "        sub-grid i = rows ()"
   ]
  },
  {
   "cell_type": "code",
   "execution_count": null,
   "metadata": {},
   "outputs": [],
   "source": [
    "from collections import defaultdict\n",
    "from math import floor, ceil\n",
    "\n",
    "def isValidSudoku(board):\n",
    "    def rowCheck(row):\n",
    "        row = [int(r) for r in row if r != \".\"]\n",
    "        freq = defaultdict(int)\n",
    "        for x in row:\n",
    "            freq[x] = freq[x] + 1\n",
    "        return all([key < 10 and val < 2 for (key, val) in freq.items()])\n",
    "\n",
    "    def convertCols(board):\n",
    "        return [[board[j][i] for j in range(9)] for i in range(9)]\n",
    "    \n",
    "    def convertSubGrid(board):\n",
    "        def genRows(i): return range(floor(i / 3) * 3, ceil(i / 3) * 3) if i % 3 != 0 else range(floor(i/3) * 3, (floor(i/3)+1)*3) \n",
    "        def genCols(i): return range(i%3 *3, (i%3+1)*3)\n",
    "        return [[board[i][j] for i in genRows(n) for j in genCols(n)] for n in range(9)]\n",
    "\n",
    "    rows = all([rowCheck(r) for r in board])\n",
    "    cols = all([rowCheck(r) for r in convertCols(board)])\n",
    "    subGrid = all([rowCheck(r) for r in convertSubGrid(board)])\n",
    "\n",
    "    return rows and cols and subGrid"
   ]
  },
  {
   "attachments": {},
   "cell_type": "markdown",
   "metadata": {},
   "source": [
    "## Approach 2\n",
    "\n",
    "- a subGrid can be identified by 2 coordinates (p, k) and elements in (i, j) where p = floor(i/3) and k = floor(j/3)\n",
    "\n",
    "- for all possible i, j:\n",
    "    - checks:\n",
    "        - is element i, j < 10\n",
    "        - has row i seen element at i, j\n",
    "        - has col j seen element at i, j\n",
    "        - has subGrid (floor(i/3), floor(j/3)) seen element at i, j\n"
   ]
  },
  {
   "cell_type": "code",
   "execution_count": 36,
   "metadata": {},
   "outputs": [
    {
     "name": "stdout",
     "output_type": "stream",
     "text": [
      "False\n"
     ]
    }
   ],
   "source": [
    "from math import floor\n",
    "from collections import defaultdict\n",
    "from functools import reduce\n",
    "\n",
    "def isValidSudoku1(board):\n",
    "    allIJs = [(i, j) for i in range(9) for j in range(9)]\n",
    "    def check(sets, coordinates):\n",
    "        (i, j) = coordinates\n",
    "        elem = int(board[i][j]) if board[i][j] != \".\" else None\n",
    "        if sets == None: return None\n",
    "        if elem == None: return sets\n",
    "        (rowSets, colSets, subGridSets) = sets\n",
    "        rowCheck = elem not in rowSets[i]\n",
    "        colCheck = elem not in colSets[j]\n",
    "        subGridCheck = elem not in subGridSets[(floor(i/3), floor(j/3))]\n",
    "        if rowCheck and colCheck and subGridCheck:\n",
    "            rowSets[i].add(elem)\n",
    "            colSets[j].add(elem)\n",
    "            subGridSets[(floor(i/3), floor(j/3))].add(elem)\n",
    "            return sets\n",
    "        return None\n",
    "    return True if reduce(check, allIJs, (defaultdict(set), defaultdict(set), defaultdict(set))) != None else False\n",
    "\n",
    "print(isValidSudoku1(board))"
   ]
  },
  {
   "cell_type": "code",
   "execution_count": null,
   "metadata": {},
   "outputs": [],
   "source": []
  }
 ],
 "metadata": {
  "kernelspec": {
   "display_name": "Python 3",
   "language": "python",
   "name": "python3"
  },
  "language_info": {
   "codemirror_mode": {
    "name": "ipython",
    "version": 3
   },
   "file_extension": ".py",
   "mimetype": "text/x-python",
   "name": "python",
   "nbconvert_exporter": "python",
   "pygments_lexer": "ipython3",
   "version": "3.9.6"
  },
  "polyglot_notebook": {
   "kernelInfo": {
    "defaultKernelName": "csharp",
    "items": [
     {
      "aliases": [
       "c#",
       "C#"
      ],
      "languageName": "C#",
      "name": "csharp"
     },
     {
      "aliases": [],
      "languageName": "Mermaid",
      "name": "mermaid"
     },
     {
      "aliases": [
       "frontend"
      ],
      "languageName": null,
      "name": "vscode"
     }
    ]
   }
  },
  "vscode": {
   "interpreter": {
    "hash": "31f2aee4e71d21fbe5cf8b01ff0e069b9275f58929596ceb00d14d90e3e16cd6"
   }
  }
 },
 "nbformat": 4,
 "nbformat_minor": 2
}
