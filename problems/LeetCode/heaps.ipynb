{
 "cells": [
  {
   "attachments": {},
   "cell_type": "markdown",
   "metadata": {},
   "source": [
    "## [ Task Scheduler ]( https://leetcode.com/problems/task-scheduler/ )\n",
    "Given a characters array tasks, representing the tasks a CPU needs to do, where each letter represents a different task. Tasks could be done in any order. Each task is done in one unit of time. For each unit of time, the CPU could complete either one task or just be idle.\n",
    "\n",
    "However, there is a non-negative integer n that represents the cooldown period between two same tasks (the same letter in the array), that is that there must be at least n units of time between any two same tasks.\n",
    "\n",
    "Return the least number of units of times that the CPU will take to finish all the given tasks.\n",
    "\n",
    "Example 1:\n",
    "```\n",
    "Input: tasks = [\"A\",\"A\",\"A\",\"B\",\"B\",\"B\"], n = 2\n",
    "Output: 8\n",
    "Explanation: \n",
    "A -> B -> idle -> A -> B -> idle -> A -> B\n",
    "There is at least 2 units of time between any two same tasks.\n",
    "```\n",
    "Example 2:\n",
    "\n",
    "```\n",
    "Input: tasks = [\"A\",\"A\",\"A\",\"B\",\"B\",\"B\"], n = 0\n",
    "Output: 6\n",
    "Explanation: On this case any permutation of size 6 would work since n = 0.\n",
    "[\"A\",\"A\",\"A\",\"B\",\"B\",\"B\"]\n",
    "[\"A\",\"B\",\"A\",\"B\",\"A\",\"B\"]\n",
    "[\"B\",\"B\",\"B\",\"A\",\"A\",\"A\"]\n",
    "...\n",
    "And so on.\n",
    "```\n",
    "Example 3:\n",
    "\n",
    "```\n",
    "Input: tasks = [\"A\",\"A\",\"A\",\"A\",\"A\",\"A\",\"B\",\"C\",\"D\",\"E\",\"F\",\"G\"], n = 2\n",
    "Output: 16\n",
    "Explanation: \n",
    "One possible solution is\n",
    "A -> B -> C -> A -> D -> E -> A -> F -> G -> A -> idle -> idle -> A -> idle -> idle -> A\n",
    "```"
   ]
  },
  {
   "attachments": {},
   "cell_type": "markdown",
   "metadata": {},
   "source": [
    "### Approach\n",
    "The task that occurs most frequently should be used up and the spaces between them filled with the 2nd most frequent task and so on!\n",
    "- `x` = number of times of the most frequent task appears\n",
    "- `x * t` = number of gaps between doing each instance of the most frequent task\n",
    "\n",
    "- `f :: Gaps -> MaxHeap Task Frequency -> MaxFrequency\n",
    "    - if heap is empty: 0\n",
    "    - if gaps = 0: max freq + f (max freq * t) (pop max from heap)\n",
    "    - if max freq <= gaps: \n",
    "        max freq + f (gap - max freq) (pop max from heap)\n",
    "    - else: \n",
    "        gaps + f 0 (update max element to max - gaps)"
   ]
  },
  {
   "cell_type": "code",
   "execution_count": 35,
   "metadata": {},
   "outputs": [
    {
     "ename": "SyntaxError",
     "evalue": "invalid syntax (202898782.py, line 12)",
     "output_type": "error",
     "traceback": [
      "\u001b[0;36m  Cell \u001b[0;32mIn[35], line 12\u001b[0;36m\u001b[0m\n\u001b[0;31m    if ceil(gaps / t) == x:\u001b[0m\n\u001b[0m                          ^\u001b[0m\n\u001b[0;31mSyntaxError\u001b[0m\u001b[0;31m:\u001b[0m invalid syntax\n"
     ]
    }
   ],
   "source": [
    "from collections import Counter\n",
    "import heapq\n",
    "from math import ceil\n",
    "\n",
    "def employeeOfTheMonth(tasks: list[str], t: int):\n",
    "    def f (gaps, heap):\n",
    "        if not heap: return (gaps, (0, 0))\n",
    "        x = heapq.heappop(heap) * -1\n",
    "        if gaps == 0: \n",
    "            (timeSpent, (bucket, slot)) = f(x * (t - 1), heap)\n",
    "            return (x + timeSpent, (bucket)\n",
    "        if ceil(gaps / t) == x:\n",
    "            return x + f(gaps - x + 1, heap)\n",
    "        if x <= gaps:\n",
    "            return x + f(gaps - x, heap)\n",
    "        else:\n",
    "            heapq.heappush(heap, x + gaps)\n",
    "            return gaps + f(0, heap)\n",
    "    heap = [ -x for x in Counter(tasks).values() ]\n",
    "    heapq.heapify(heap)\n",
    "    return f(0, heap)\n",
    "\n",
    "xs = [\"A\",\"A\",\"A\",\"B\",\"B\", \"B\"]\n",
    "ys = [\"A\",\"A\",\"A\",\"A\",\"A\",\"A\",\"B\",\"C\",\"D\",\"E\",\"F\",\"G\"]\n",
    "zs = [\"A\",\"B\",\"C\",\"D\",\"E\",\"A\",\"B\",\"C\",\"D\",\"E\"]\n",
    "\n",
    "[\"A\",\"A\",\"A\",\"B\",\"B\",\"B\", \"C\",\"C\",\"C\", \"D\", \"D\", \"E\"]\n",
    "A _ _ A _ _ A \n",
    "A B _ A B _ A B\n",
    "A B C A B C A B C\n",
    "A \n",
    "print(employeeOfTheMonth(zs, 4))"
   ]
  },
  {
   "cell_type": "markdown",
   "metadata": {},
   "source": []
  }
 ],
 "metadata": {
  "kernelspec": {
   "display_name": "Python 3",
   "language": "python",
   "name": "python3"
  },
  "language_info": {
   "codemirror_mode": {
    "name": "ipython",
    "version": 3
   },
   "file_extension": ".py",
   "mimetype": "text/x-python",
   "name": "python",
   "nbconvert_exporter": "python",
   "pygments_lexer": "ipython3",
   "version": "3.9.6"
  },
  "orig_nbformat": 4,
  "vscode": {
   "interpreter": {
    "hash": "31f2aee4e71d21fbe5cf8b01ff0e069b9275f58929596ceb00d14d90e3e16cd6"
   }
  }
 },
 "nbformat": 4,
 "nbformat_minor": 2
}
