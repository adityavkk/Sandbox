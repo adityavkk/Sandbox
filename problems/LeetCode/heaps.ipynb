{
 "cells": [
  {
   "attachments": {},
   "cell_type": "markdown",
   "metadata": {},
   "source": [
    "### Approach\n",
    "The task that occurs most frequently should be used up and the spaces between them filled with the 2nd most frequent task and so on!\n",
    "- `x` = number of times of the most frequent task appears\n",
    "- `x * t` = number of gaps between doing each instance of the most frequent task\n",
    "\n",
    "- `f :: Gaps -> MaxHeap Task Frequency -> MaxFrequency\n",
    "    - if heap is empty: 0\n",
    "    - if gaps = 0: max freq + f (max freq * t) (pop max from heap)\n",
    "    - if max freq <= gaps: \n",
    "        max freq + f (gap - max freq) (pop max from heap)\n",
    "    - else: \n",
    "        gaps + f 0 (update max element to max - gaps)"
   ]
  },
  {
   "cell_type": "code",
   "execution_count": 35,
   "metadata": {},
   "outputs": [
    {
     "ename": "SyntaxError",
     "evalue": "invalid syntax (202898782.py, line 12)",
     "output_type": "error",
     "traceback": [
      "\u001b[0;36m  Cell \u001b[0;32mIn[35], line 12\u001b[0;36m\u001b[0m\n\u001b[0;31m    if ceil(gaps / t) == x:\u001b[0m\n\u001b[0m                          ^\u001b[0m\n\u001b[0;31mSyntaxError\u001b[0m\u001b[0;31m:\u001b[0m invalid syntax\n"
     ]
    }
   ],
   "source": [
    "from collections import Counter\n",
    "import heapq\n",
    "from math import ceil\n",
    "\n",
    "def employeeOfTheMonth(tasks: list[str], t: int):\n",
    "    def f (gaps, heap):\n",
    "        if not heap: return (gaps, (0, 0))\n",
    "        x = heapq.heappop(heap) * -1\n",
    "        if gaps == 0: \n",
    "            (timeSpent, (bucket, slot)) = f(x * (t - 1), heap)\n",
    "            return (x + timeSpent, (bucket)\n",
    "        if ceil(gaps / t) == x:\n",
    "            return x + f(gaps - x + 1, heap)\n",
    "        if x <= gaps:\n",
    "            return x + f(gaps - x, heap)\n",
    "        else:\n",
    "            heapq.heappush(heap, x + gaps)\n",
    "            return gaps + f(0, heap)\n",
    "    heap = [ -x for x in Counter(tasks).values() ]\n",
    "    heapq.heapify(heap)\n",
    "    return f(0, heap)\n",
    "\n",
    "xs = [\"A\",\"A\",\"A\",\"B\",\"B\", \"B\"]\n",
    "ys = [\"A\",\"A\",\"A\",\"A\",\"A\",\"A\",\"B\",\"C\",\"D\",\"E\",\"F\",\"G\"]\n",
    "zs = [\"A\",\"B\",\"C\",\"D\",\"E\",\"A\",\"B\",\"C\",\"D\",\"E\"]\n",
    "\n",
    "[\"A\",\"A\",\"A\",\"B\",\"B\",\"B\", \"C\",\"C\",\"C\", \"D\", \"D\", \"E\"]\n",
    "A _ _ A _ _ A \n",
    "A B _ A B _ A B\n",
    "A B C A B C A B C\n",
    "A \n",
    "print(employeeOfTheMonth(zs, 4))"
   ]
  },
  {
   "cell_type": "markdown",
   "metadata": {},
   "source": []
  }
 ],
 "metadata": {
  "kernelspec": {
   "display_name": "Python 3",
   "language": "python",
   "name": "python3"
  },
  "language_info": {
   "codemirror_mode": {
    "name": "ipython",
    "version": 3
   },
   "file_extension": ".py",
   "mimetype": "text/x-python",
   "name": "python",
   "nbconvert_exporter": "python",
   "pygments_lexer": "ipython3",
   "version": "3.9.6"
  },
  "orig_nbformat": 4,
  "vscode": {
   "interpreter": {
    "hash": "31f2aee4e71d21fbe5cf8b01ff0e069b9275f58929596ceb00d14d90e3e16cd6"
   }
  }
 },
 "nbformat": 4,
 "nbformat_minor": 2
}
