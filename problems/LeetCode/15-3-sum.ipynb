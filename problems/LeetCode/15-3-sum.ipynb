{
 "cells": [
  {
   "attachments": {},
   "cell_type": "markdown",
   "metadata": {
    "dotnet_interactive": {
     "language": "csharp"
    },
    "polyglot_notebook": {
     "kernelName": "csharp"
    }
   },
   "source": [
    "Given an integer array nums, return all the triplets [nums[i], nums[j], nums[k]] such that i != j, i != k, and j != k, and nums[i] + nums[j] + nums[k] == 0.\n",
    "\n",
    "Notice that the solution set must not contain duplicate triplets."
   ]
  },
  {
   "attachments": {},
   "cell_type": "markdown",
   "metadata": {
    "dotnet_interactive": {
     "language": "csharp"
    },
    "polyglot_notebook": {
     "kernelName": "csharp"
    }
   },
   "source": [
    "Example 1:\n",
    "\n",
    "Input: nums = [-1,0,1,2,-1,-4]\n",
    "Output: [[-1,-1,2],[-1,0,1]]\n",
    "Explanation: \n",
    "nums[0] + nums[1] + nums[2] = (-1) + 0 + 1 = 0.\n",
    "nums[1] + nums[2] + nums[4] = 0 + 1 + (-1) = 0.\n",
    "nums[0] + nums[3] + nums[4] = (-1) + 2 + (-1) = 0.\n",
    "The distinct triplets are [-1,0,1] and [-1,-1,2].\n",
    "Notice that the order of the output and the order of the triplets does not matter.\n",
    "Example 2:\n",
    "\n",
    "Input: nums = [0,1,1]\n",
    "Output: []\n",
    "Explanation: The only possible triplet does not sum up to 0.\n",
    "Example 3:\n",
    "\n",
    "Input: nums = [0,0,0]\n",
    "Output: [[0,0,0]]\n",
    "Explanation: The only possible triplet sums up to 0."
   ]
  },
  {
   "attachments": {},
   "cell_type": "markdown",
   "metadata": {
    "dotnet_interactive": {
     "language": "csharp"
    },
    "polyglot_notebook": {
     "kernelName": "csharp"
    }
   },
   "source": [
    "## Approach\n",
    "for every x in xs: run 2 sum checking for -x on the rest of xs\n",
    "O(n * n) => O(N^2)\n",
    "\n",
    "2 sum(k):\n",
    "for every x in xs: does xs contain (x - k)\n",
    "\n",
    "[-4,-1,-1,0,1,2] -> [-4, 2] (check for 2 between pointers)\n",
    "[-4,-1,-1,0,1,2] -> [-4, 2] (check for 2 between pointers)"
   ]
  },
  {
   "cell_type": "code",
   "execution_count": null,
   "metadata": {
    "dotnet_interactive": {
     "language": "csharp"
    },
    "polyglot_notebook": {
     "kernelName": "csharp"
    },
    "vscode": {
     "languageId": "polyglot-notebook"
    }
   },
   "outputs": [],
   "source": [
    "from collections import defaultdict\n",
    "\n",
    "def freqCounter(xs, i):\n",
    "    counter = defaultdict(int)\n",
    "    for i in range(i, len(xs)):\n",
    "        counter[xs[i]] = counter[xs[i]] + 1\n",
    "    return counter\n",
    "\n",
    "def twoSum(xs, i, k):\n",
    "    freqCount = freqCounter(xs, i)\n",
    "    res = set()\n",
    "    for i in range(i, len(xs)):\n",
    "        x = xs[i]\n",
    "        if (k - x) not in freqCount or (x == (k - x) and freqCount[k - x] < 2):\n",
    "            continue\n",
    "        else:\n",
    "            freqCount[x] = freqCount[k - x] - 1\n",
    "            if (freqCount[x] == 0): freqCount.pop(x)\n",
    "            res.add(( x, k - x ))\n",
    "    return res\n",
    "\n",
    "xs = [-1,0,1,2,-1,-4]\n",
    "def sortTuple(a, b, c):\n",
    "    xs = [a, b, c]\n",
    "    xs.sort()\n",
    "    return (xs[0], xs[1], xs[2])\n",
    "\n",
    "def threeSum(xs):\n",
    "    res = set()\n",
    "    for i, x in enumerate(xs):\n",
    "        twoSums = twoSum(xs, i + 1, -x)\n",
    "        if twoSums:\n",
    "            ys = [sortTuple(x, t1, t2) for (t1, t2) in twoSums]\n",
    "            for y in ys: \n",
    "                res.add(y)\n",
    "    return [[a, b, c] for (a, b, c) in res]\n",
    "threeSum(xs)"
   ]
  },
  {
   "cell_type": "code",
   "execution_count": null,
   "metadata": {
    "dotnet_interactive": {
     "language": "csharp"
    },
    "polyglot_notebook": {
     "kernelName": "csharp"
    },
    "vscode": {
     "languageId": "polyglot-notebook"
    }
   },
   "outputs": [],
   "source": []
  },
  {
   "cell_type": "code",
   "execution_count": null,
   "metadata": {
    "dotnet_interactive": {
     "language": "csharp"
    },
    "polyglot_notebook": {
     "kernelName": "csharp"
    },
    "vscode": {
     "languageId": "polyglot-notebook"
    }
   },
   "outputs": [],
   "source": []
  }
 ],
 "metadata": {
  "kernelspec": {
   "display_name": ".NET (C#)",
   "language": "C#",
   "name": ".net-csharp"
  },
  "polyglot_notebook": {
   "kernelInfo": {
    "defaultKernelName": "csharp",
    "items": [
     {
      "aliases": [
       "c#",
       "C#"
      ],
      "languageName": "C#",
      "name": "csharp"
     },
     {
      "aliases": [],
      "languageName": "Mermaid",
      "name": "mermaid"
     },
     {
      "aliases": [
       "frontend"
      ],
      "languageName": null,
      "name": "vscode"
     }
    ]
   }
  }
 },
 "nbformat": 4,
 "nbformat_minor": 2
}
