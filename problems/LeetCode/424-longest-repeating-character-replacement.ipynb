{
 "cells": [
  {
   "attachments": {},
   "cell_type": "markdown",
   "metadata": {
    "dotnet_interactive": {
     "language": "csharp"
    },
    "polyglot_notebook": {
     "kernelName": "csharp"
    }
   },
   "source": [
    "# Longest Repeating Character Replacement\n",
    "You are given a string s and an integer k. You can choose any character of the string and change it to any other uppercase English character. You can perform this operation at most k times.\n",
    "Return the length of the longest substring containing the same letter you can get after performing the above operations.\n",
    "\n",
    "## Test Cases\n",
    "Input: s = \"ABAB\", k = 2\n",
    "\n",
    "   Output: 4\n",
    "\n",
    "   Explanation: Replace the two 'A's with two 'B's or vice versa.\n",
    "\n",
    "Input: s = \"AABABBA\", k = 1\n",
    "\n",
    "   Output: 4\n",
    "\n",
    "   Explanation: Replace the one 'A' in the middle with 'B' and form.\n",
    "   \"AABBBBA\".\n",
    "   The substring \"BBBB\" has the longest repeating letters, which is 4."
   ]
  },
  {
   "attachments": {},
   "cell_type": "markdown",
   "metadata": {
    "dotnet_interactive": {
     "language": "csharp"
    },
    "polyglot_notebook": {
     "kernelName": "csharp"
    }
   },
   "source": [
    "## Brute Force Approach (O(2^k))\n",
    "- Try each letter (A-Z) for each character k times\n",
    "- when k = 0, return the length of the longest word\n",
    "\n",
    "- the longest repeating character sequence will be one of the letters in { A...Z }\n",
    "- treat each letter as a candidate and find the longest repeating character sequence possible for it (O(2^k))\n",
    "- O(26 * 2 ^k)\n",
    "\n",
    "## Approach (O(N))\n",
    "- each position in the string is a candidate for the start of the longest sequence\n",
    "- try to make the longest sequence from each position\n",
    "- turn everything in a window into the character with the highest frequency\n",
    "- for a given window size: if you can't with the given Ks, then the previous window size is the longest"
   ]
  },
  {
   "cell_type": "code",
   "execution_count": null,
   "metadata": {
    "dotnet_interactive": {
     "language": "csharp"
    },
    "polyglot_notebook": {
     "kernelName": "csharp"
    },
    "vscode": {
     "languageId": "polyglot-notebook"
    }
   },
   "outputs": [],
   "source": [
    "from collections import Counter\n",
    "\n",
    "def f(xs, k):\n",
    "    window = 1\n",
    "    maxInWindow = 0\n",
    "    freq = Counter()\n",
    "    for (i, x) in enumerate(xs):\n",
    "        freq[x] += 1 # grow window\n",
    "        maxInWindow = max(maxInWindow, freq[x]) # update max in window if needed\n",
    "        if (window - maxInWindow >= k): # if not everything in the window can be made the same char with k\n",
    "            firstCharInWindow = xs[i - window + 1] \n",
    "            freq[firstCharInWindow] -= 1 # shrink the window\n",
    "        else: \n",
    "            window += 1\n",
    "    return window\n",
    "\n",
    "s = \"AABABBA\"\n",
    "k = 1\n",
    "print(f(s, k)) "
   ]
  },
  {
   "cell_type": "code",
   "execution_count": null,
   "metadata": {
    "dotnet_interactive": {
     "language": "fsharp"
    },
    "polyglot_notebook": {
     "kernelName": "fsharp"
    },
    "vscode": {
     "languageId": "polyglot-notebook"
    }
   },
   "outputs": [],
   "source": []
  },
  {
   "cell_type": "markdown",
   "metadata": {
    "dotnet_interactive": {
     "language": "csharp"
    },
    "polyglot_notebook": {
     "kernelName": "csharp"
    }
   },
   "source": []
  }
 ],
 "metadata": {
  "kernelspec": {
   "display_name": ".NET (C#)",
   "language": "C#",
   "name": ".net-csharp"
  },
  "polyglot_notebook": {
   "kernelInfo": {
    "defaultKernelName": "csharp",
    "items": [
     {
      "aliases": [
       "c#",
       "C#"
      ],
      "languageName": "C#",
      "name": "csharp"
     },
     {
      "aliases": [],
      "languageName": null,
      "name": ".NET"
     },
     {
      "aliases": [],
      "languageName": "Mermaid",
      "name": "mermaid"
     },
     {
      "aliases": [
       "frontend"
      ],
      "languageName": null,
      "name": "vscode"
     },
     {
      "aliases": [
       "js"
      ],
      "languageName": "JavaScript",
      "name": "javascript"
     },
     {
      "aliases": [],
      "name": "webview"
     }
    ]
   }
  }
 },
 "nbformat": 4,
 "nbformat_minor": 2
}
